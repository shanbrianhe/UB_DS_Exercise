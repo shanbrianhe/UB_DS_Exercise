{
 "cells": [
  {
   "cell_type": "markdown",
   "metadata": {},
   "source": [
    "# Prompt"
   ]
  },
  {
   "cell_type": "markdown",
   "metadata": {},
   "source": [
    "Uber’s Driver team is interested in predicting which driver signups are most likely to start driving.\n",
    "To help explore this question, we have provided a sample dataset of a cohort of driver signups.\n",
    "The data was pulled a some time after they signed up to include the result of whether they\n",
    "actually completed their first trip. It also includes several pieces of background information\n",
    "gathered about the driver and their car."
   ]
  },
  {
   "cell_type": "code",
   "execution_count": 1,
   "metadata": {},
   "outputs": [],
   "source": [
    "#import needed libraries\n",
    "%matplotlib inline\n",
    "#basics\n",
    "import numpy as np\n",
    "import pandas as pd\n",
    "import re\n",
    "import matplotlib.pyplot as plt\n",
    "\n",
    "#train test split\n",
    "from sklearn.model_selection import train_test_split\n",
    "\n",
    "#model evaluation\n",
    "from sklearn.metrics import roc_auc_score\n",
    "from sklearn.metrics import roc_curve\n",
    "from sklearn.metrics import auc\n",
    "from sklearn.metrics import confusion_matrix\n",
    "\n",
    "#model tuning\n",
    "from sklearn.model_selection import GridSearchCV\n",
    "from sklearn.model_selection import StratifiedKFold\n",
    "\n",
    "#model\n",
    "from sklearn.linear_model import LogisticRegression\n",
    "import xgboost as xgb"
   ]
  },
  {
   "cell_type": "markdown",
   "metadata": {},
   "source": [
    "## Part A\n",
    "Perform any cleaning, exploratory analysis, and/or visualizations to use the provided data for this\n",
    "analysis (a few sentences/plots describing your approach will suffice). What fraction of the driver\n",
    "signups took a first trip within 30 days of signing up?"
   ]
  },
  {
   "cell_type": "code",
   "execution_count": 3,
   "metadata": {},
   "outputs": [],
   "source": [
    "#load data\n",
    "df = pd.read_csv('product_ds_exercise_2018_h2_dataset.csv')\n",
    "# df.head(5)"
   ]
  },
  {
   "cell_type": "code",
   "execution_count": 4,
   "metadata": {},
   "outputs": [
    {
     "name": "stdout",
     "output_type": "stream",
     "text": [
      "------------\n",
      "Total count of records: 12357\n",
      "Number of Unique Driver Ids: 11655 \n",
      "\n",
      "11083 Id's occured 1 time(s)\n",
      "458 Id's occured 2 time(s)\n",
      "101 Id's occured 3 time(s)\n",
      "10 Id's occured 4 time(s)\n",
      "3 Id's occured 5 time(s)\n",
      "------------\n",
      "Total count of records: 11978\n",
      "Number of Unique Driver Ids: 11655 \n",
      "\n",
      "11355 Id's occured 1 time(s)\n",
      "277 Id's occured 2 time(s)\n",
      "23 Id's occured 3 time(s)\n"
     ]
    }
   ],
   "source": [
    "#check for uniqueness of id\n",
    "\n",
    "def check_uniqueness (df):\n",
    "    print ('------------\\n' + 'Total count of records:', len(df))\n",
    "    print ('Number of Unique Driver Ids:', df.id.nunique(), '\\n')\n",
    "\n",
    "    temp = df.groupby('id').size().reset_index()\n",
    "\n",
    "    for i in df.groupby('id').size().unique():\n",
    "        print (len(temp[temp.iloc[:, 1] == i]), 'Id\\'s occured', i, 'time(s)')\n",
    "\n",
    "check_uniqueness(df)\n",
    "check_uniqueness(df.drop_duplicates())"
   ]
  },
  {
   "cell_type": "markdown",
   "metadata": {},
   "source": [
    "It seems like that we have some duplicate records in the original dataframe. With that in mind, we will create a deduped version of our data. We do see drivers with multiple signups (up to 3 times), which isn't unreasonable."
   ]
  },
  {
   "cell_type": "code",
   "execution_count": 5,
   "metadata": {},
   "outputs": [],
   "source": [
    "#DEDUPE\n",
    "df.drop_duplicates(inplace = True)"
   ]
  },
  {
   "cell_type": "code",
   "execution_count": 6,
   "metadata": {},
   "outputs": [
    {
     "data": {
      "text/html": [
       "<div>\n",
       "<style scoped>\n",
       "    .dataframe tbody tr th:only-of-type {\n",
       "        vertical-align: middle;\n",
       "    }\n",
       "\n",
       "    .dataframe tbody tr th {\n",
       "        vertical-align: top;\n",
       "    }\n",
       "\n",
       "    .dataframe thead th {\n",
       "        text-align: right;\n",
       "    }\n",
       "</style>\n",
       "<table border=\"1\" class=\"dataframe\">\n",
       "  <thead>\n",
       "    <tr style=\"text-align: right;\">\n",
       "      <th></th>\n",
       "      <th>count</th>\n",
       "      <th>unique</th>\n",
       "      <th>top</th>\n",
       "      <th>freq</th>\n",
       "      <th>pct</th>\n",
       "    </tr>\n",
       "  </thead>\n",
       "  <tbody>\n",
       "    <tr>\n",
       "      <th>id</th>\n",
       "      <td>11978</td>\n",
       "      <td>1</td>\n",
       "      <td>False</td>\n",
       "      <td>11978</td>\n",
       "      <td>1.00</td>\n",
       "    </tr>\n",
       "    <tr>\n",
       "      <th>city_name</th>\n",
       "      <td>11978</td>\n",
       "      <td>1</td>\n",
       "      <td>False</td>\n",
       "      <td>11978</td>\n",
       "      <td>1.00</td>\n",
       "    </tr>\n",
       "    <tr>\n",
       "      <th>signup_os</th>\n",
       "      <td>11978</td>\n",
       "      <td>2</td>\n",
       "      <td>False</td>\n",
       "      <td>6730</td>\n",
       "      <td>0.56</td>\n",
       "    </tr>\n",
       "    <tr>\n",
       "      <th>signup_channel</th>\n",
       "      <td>11978</td>\n",
       "      <td>2</td>\n",
       "      <td>False</td>\n",
       "      <td>10766</td>\n",
       "      <td>0.90</td>\n",
       "    </tr>\n",
       "    <tr>\n",
       "      <th>signup_timestamp</th>\n",
       "      <td>11978</td>\n",
       "      <td>2</td>\n",
       "      <td>False</td>\n",
       "      <td>10823</td>\n",
       "      <td>0.90</td>\n",
       "    </tr>\n",
       "    <tr>\n",
       "      <th>bgc_date</th>\n",
       "      <td>11978</td>\n",
       "      <td>2</td>\n",
       "      <td>False</td>\n",
       "      <td>7549</td>\n",
       "      <td>0.63</td>\n",
       "    </tr>\n",
       "    <tr>\n",
       "      <th>vehicle_added_date</th>\n",
       "      <td>11978</td>\n",
       "      <td>2</td>\n",
       "      <td>False</td>\n",
       "      <td>10750</td>\n",
       "      <td>0.90</td>\n",
       "    </tr>\n",
       "    <tr>\n",
       "      <th>vehicle_make</th>\n",
       "      <td>11978</td>\n",
       "      <td>2</td>\n",
       "      <td>False</td>\n",
       "      <td>11348</td>\n",
       "      <td>0.95</td>\n",
       "    </tr>\n",
       "    <tr>\n",
       "      <th>vehicle_model</th>\n",
       "      <td>11978</td>\n",
       "      <td>1</td>\n",
       "      <td>False</td>\n",
       "      <td>11978</td>\n",
       "      <td>1.00</td>\n",
       "    </tr>\n",
       "    <tr>\n",
       "      <th>vehicle_year</th>\n",
       "      <td>11978</td>\n",
       "      <td>1</td>\n",
       "      <td>False</td>\n",
       "      <td>11978</td>\n",
       "      <td>1.00</td>\n",
       "    </tr>\n",
       "    <tr>\n",
       "      <th>first_completed_trip_timestamp</th>\n",
       "      <td>11978</td>\n",
       "      <td>2</td>\n",
       "      <td>False</td>\n",
       "      <td>6511</td>\n",
       "      <td>0.54</td>\n",
       "    </tr>\n",
       "  </tbody>\n",
       "</table>\n",
       "</div>"
      ],
      "text/plain": [
       "                                count unique    top   freq   pct\n",
       "id                              11978      1  False  11978  1.00\n",
       "city_name                       11978      1  False  11978  1.00\n",
       "signup_os                       11978      2  False   6730  0.56\n",
       "signup_channel                  11978      2  False  10766  0.90\n",
       "signup_timestamp                11978      2  False  10823  0.90\n",
       "bgc_date                        11978      2  False   7549  0.63\n",
       "vehicle_added_date              11978      2  False  10750  0.90\n",
       "vehicle_make                    11978      2  False  11348  0.95\n",
       "vehicle_model                   11978      1  False  11978  1.00\n",
       "vehicle_year                    11978      1  False  11978  1.00\n",
       "first_completed_trip_timestamp  11978      2  False   6511  0.54"
      ]
     },
     "execution_count": 6,
     "metadata": {},
     "output_type": "execute_result"
    }
   ],
   "source": [
    "#check for completeness of data\n",
    "def check_completeness (df):\n",
    "    temp = df.isnull().describe().T\n",
    "    temp['pct'] = (temp.freq.astype('int') / temp['count'].astype('int')).map(lambda x : round(x,2))\n",
    "    return temp\n",
    "\n",
    "check_completeness (df)"
   ]
  },
  {
   "cell_type": "markdown",
   "metadata": {},
   "source": [
    "We see nulls in `signup_os`, `signup_channel`, `signup_timestamp`, `bgc_date`, `vehicle_added_date`, `vehicle_make`, and `first_completed_trip_timestamp`.\n",
    "\n",
    "Out of the fields with nulls, only `signup_os`, `bgc_date`, and `first_completed_trip_timestamp` have more than 10% of the rows being nulls. `bgc_date` and `first_completed_trip_timestamp` have nulls that seem reasonable - drivers who didn't consent to background check and drivers who didn't complete trip. But nulls in `signup_os` may result from some system issue where certain devices aren't being recognized."
   ]
  },
  {
   "cell_type": "code",
   "execution_count": 7,
   "metadata": {},
   "outputs": [
    {
     "data": {
      "text/html": [
       "<div>\n",
       "<style scoped>\n",
       "    .dataframe tbody tr th:only-of-type {\n",
       "        vertical-align: middle;\n",
       "    }\n",
       "\n",
       "    .dataframe tbody tr th {\n",
       "        vertical-align: top;\n",
       "    }\n",
       "\n",
       "    .dataframe thead th {\n",
       "        text-align: right;\n",
       "    }\n",
       "</style>\n",
       "<table border=\"1\" class=\"dataframe\">\n",
       "  <thead>\n",
       "    <tr style=\"text-align: right;\">\n",
       "      <th></th>\n",
       "      <th>id</th>\n",
       "      <th>city_name</th>\n",
       "      <th>signup_os</th>\n",
       "      <th>signup_channel</th>\n",
       "      <th>signup_timestamp</th>\n",
       "      <th>bgc_date</th>\n",
       "      <th>vehicle_added_date</th>\n",
       "      <th>vehicle_make</th>\n",
       "      <th>vehicle_model</th>\n",
       "      <th>vehicle_year</th>\n",
       "      <th>first_completed_trip_timestamp</th>\n",
       "    </tr>\n",
       "  </thead>\n",
       "  <tbody>\n",
       "    <tr>\n",
       "      <th>20</th>\n",
       "      <td>e0513d05-942c-47d4-8102-2fff5d5307b1</td>\n",
       "      <td>Strark</td>\n",
       "      <td>mac</td>\n",
       "      <td>Organic</td>\n",
       "      <td>2017-07-25T20:41:45Z</td>\n",
       "      <td>2017-07-25T20:42:21Z</td>\n",
       "      <td>NaN</td>\n",
       "      <td>Honda</td>\n",
       "      <td>Accord</td>\n",
       "      <td>2017</td>\n",
       "      <td>2017-07-27T22:04:07Z</td>\n",
       "    </tr>\n",
       "    <tr>\n",
       "      <th>53</th>\n",
       "      <td>0cdda4e8-ad67-44c0-8786-3e054be20f28</td>\n",
       "      <td>Strark</td>\n",
       "      <td>ios web</td>\n",
       "      <td>Referral</td>\n",
       "      <td>2017-07-20T08:26:24Z</td>\n",
       "      <td>2017-07-20T08:27:08Z</td>\n",
       "      <td>NaN</td>\n",
       "      <td>Lexus</td>\n",
       "      <td>ES</td>\n",
       "      <td>2014</td>\n",
       "      <td>2017-07-24T18:02:07Z</td>\n",
       "    </tr>\n",
       "    <tr>\n",
       "      <th>67</th>\n",
       "      <td>85efbb0d-8773-4237-9232-99f3e4a28227</td>\n",
       "      <td>Wrouver</td>\n",
       "      <td>NaN</td>\n",
       "      <td>R2D</td>\n",
       "      <td>2017-07-11T14:21:38Z</td>\n",
       "      <td>NaN</td>\n",
       "      <td>NaN</td>\n",
       "      <td>Cadillac</td>\n",
       "      <td>Escalade</td>\n",
       "      <td>2005</td>\n",
       "      <td>2017-07-13T17:21:32Z</td>\n",
       "    </tr>\n",
       "    <tr>\n",
       "      <th>75</th>\n",
       "      <td>9b3f42ad-bc8a-44e9-b5cf-c2f1ad2430c5</td>\n",
       "      <td>Berton</td>\n",
       "      <td>NaN</td>\n",
       "      <td>R2D</td>\n",
       "      <td>NaN</td>\n",
       "      <td>NaN</td>\n",
       "      <td>NaN</td>\n",
       "      <td>Hyundai</td>\n",
       "      <td>Sonata</td>\n",
       "      <td>2011</td>\n",
       "      <td>2017-07-27T02:27:55Z</td>\n",
       "    </tr>\n",
       "    <tr>\n",
       "      <th>76</th>\n",
       "      <td>ad5d9d26-4b36-4d91-af18-316f1ddda79a</td>\n",
       "      <td>Strark</td>\n",
       "      <td>NaN</td>\n",
       "      <td>Referral</td>\n",
       "      <td>2017-07-31T21:53:51Z</td>\n",
       "      <td>2017-07-31T22:00:15Z</td>\n",
       "      <td>NaN</td>\n",
       "      <td>Mercedes-Benz</td>\n",
       "      <td>M-Class</td>\n",
       "      <td>2004</td>\n",
       "      <td>2017-08-18T16:02:38Z</td>\n",
       "    </tr>\n",
       "  </tbody>\n",
       "</table>\n",
       "</div>"
      ],
      "text/plain": [
       "                                      id city_name signup_os signup_channel  \\\n",
       "20  e0513d05-942c-47d4-8102-2fff5d5307b1    Strark       mac        Organic   \n",
       "53  0cdda4e8-ad67-44c0-8786-3e054be20f28    Strark   ios web       Referral   \n",
       "67  85efbb0d-8773-4237-9232-99f3e4a28227   Wrouver       NaN            R2D   \n",
       "75  9b3f42ad-bc8a-44e9-b5cf-c2f1ad2430c5    Berton       NaN            R2D   \n",
       "76  ad5d9d26-4b36-4d91-af18-316f1ddda79a    Strark       NaN       Referral   \n",
       "\n",
       "        signup_timestamp              bgc_date vehicle_added_date  \\\n",
       "20  2017-07-25T20:41:45Z  2017-07-25T20:42:21Z                NaN   \n",
       "53  2017-07-20T08:26:24Z  2017-07-20T08:27:08Z                NaN   \n",
       "67  2017-07-11T14:21:38Z                   NaN                NaN   \n",
       "75                   NaN                   NaN                NaN   \n",
       "76  2017-07-31T21:53:51Z  2017-07-31T22:00:15Z                NaN   \n",
       "\n",
       "     vehicle_make vehicle_model  vehicle_year first_completed_trip_timestamp  \n",
       "20          Honda        Accord          2017           2017-07-27T22:04:07Z  \n",
       "53          Lexus            ES          2014           2017-07-24T18:02:07Z  \n",
       "67       Cadillac      Escalade          2005           2017-07-13T17:21:32Z  \n",
       "75        Hyundai        Sonata          2011           2017-07-27T02:27:55Z  \n",
       "76  Mercedes-Benz       M-Class          2004           2017-08-18T16:02:38Z  "
      ]
     },
     "execution_count": 7,
     "metadata": {},
     "output_type": "execute_result"
    }
   ],
   "source": [
    "# df[df.vehicle_make.isnull()].head()\n",
    "# df[df.signup_channel.isnull()].head()\n",
    "# df[df.bgc_date.isnull()].head()\n",
    "df[df.vehicle_added_date.isnull()].head()"
   ]
  },
  {
   "cell_type": "markdown",
   "metadata": {},
   "source": [
    "Many of vehicle models with null vehicle makes don't seem to be real vehicle models. Besides that, no obvious data issue was found."
   ]
  },
  {
   "cell_type": "code",
   "execution_count": 8,
   "metadata": {},
   "outputs": [],
   "source": [
    "# df.dtypes"
   ]
  },
  {
   "cell_type": "code",
   "execution_count": 9,
   "metadata": {},
   "outputs": [
    {
     "data": {
      "text/html": [
       "<div>\n",
       "<style scoped>\n",
       "    .dataframe tbody tr th:only-of-type {\n",
       "        vertical-align: middle;\n",
       "    }\n",
       "\n",
       "    .dataframe tbody tr th {\n",
       "        vertical-align: top;\n",
       "    }\n",
       "\n",
       "    .dataframe thead th {\n",
       "        text-align: right;\n",
       "    }\n",
       "</style>\n",
       "<table border=\"1\" class=\"dataframe\">\n",
       "  <thead>\n",
       "    <tr style=\"text-align: right;\">\n",
       "      <th></th>\n",
       "      <th>id</th>\n",
       "      <th>city_name</th>\n",
       "      <th>signup_os</th>\n",
       "      <th>signup_channel</th>\n",
       "      <th>signup_timestamp</th>\n",
       "      <th>bgc_date</th>\n",
       "      <th>vehicle_added_date</th>\n",
       "      <th>vehicle_make</th>\n",
       "      <th>vehicle_model</th>\n",
       "      <th>vehicle_year</th>\n",
       "      <th>first_completed_trip_timestamp</th>\n",
       "      <th>signup_dt</th>\n",
       "      <th>vehicle_added_dt</th>\n",
       "      <th>first_completed_trip_dt</th>\n",
       "    </tr>\n",
       "  </thead>\n",
       "  <tbody>\n",
       "    <tr>\n",
       "      <th>0</th>\n",
       "      <td>082befb0-c1de-4c14-8700-94a7943a7545</td>\n",
       "      <td>Strark</td>\n",
       "      <td>NaN</td>\n",
       "      <td>R2D</td>\n",
       "      <td>2017-07-06T20:42:17Z</td>\n",
       "      <td>NaN</td>\n",
       "      <td>2017-07-06T20:42:56Z</td>\n",
       "      <td>Volkswagen</td>\n",
       "      <td>CC</td>\n",
       "      <td>2012</td>\n",
       "      <td>NaN</td>\n",
       "      <td>2017-07-06 20:42:17</td>\n",
       "      <td>2017-07-06 20:42:56</td>\n",
       "      <td>NaT</td>\n",
       "    </tr>\n",
       "    <tr>\n",
       "      <th>1</th>\n",
       "      <td>1ae6156f-63fc-40cf-9734-0995978c4b6e</td>\n",
       "      <td>Berton</td>\n",
       "      <td>ios web</td>\n",
       "      <td>Dost</td>\n",
       "      <td>2017-07-03T17:41:07Z</td>\n",
       "      <td>2017-07-03T17:42:06Z</td>\n",
       "      <td>2017-07-03T17:41:14Z</td>\n",
       "      <td>Toyota</td>\n",
       "      <td>4Runner</td>\n",
       "      <td>2003</td>\n",
       "      <td>2017-07-23T00:26:50Z</td>\n",
       "      <td>2017-07-03 17:41:07</td>\n",
       "      <td>2017-07-03 17:41:14</td>\n",
       "      <td>2017-07-23 00:26:50</td>\n",
       "    </tr>\n",
       "    <tr>\n",
       "      <th>2</th>\n",
       "      <td>2a4a4eef-14ef-4ceb-82eb-66f1f7d0d219</td>\n",
       "      <td>Berton</td>\n",
       "      <td>NaN</td>\n",
       "      <td>R2D</td>\n",
       "      <td>2017-07-10T22:55:29Z</td>\n",
       "      <td>NaN</td>\n",
       "      <td>2017-07-11T17:44:44Z</td>\n",
       "      <td>Hyundai</td>\n",
       "      <td>Elantra</td>\n",
       "      <td>2015</td>\n",
       "      <td>NaN</td>\n",
       "      <td>2017-07-10 22:55:29</td>\n",
       "      <td>2017-07-11 17:44:44</td>\n",
       "      <td>NaT</td>\n",
       "    </tr>\n",
       "    <tr>\n",
       "      <th>3</th>\n",
       "      <td>56fe7597-3ad8-4798-8be8-5fbc4e2d3151</td>\n",
       "      <td>Berton</td>\n",
       "      <td>ios web</td>\n",
       "      <td>Referral</td>\n",
       "      <td>2017-07-27T18:27:21Z</td>\n",
       "      <td>2017-07-27T18:31:43Z</td>\n",
       "      <td>2017-07-27T18:31:09Z</td>\n",
       "      <td>Honda</td>\n",
       "      <td>Civic</td>\n",
       "      <td>2017</td>\n",
       "      <td>2017-07-31T04:07:24Z</td>\n",
       "      <td>2017-07-27 18:27:21</td>\n",
       "      <td>2017-07-27 18:31:09</td>\n",
       "      <td>2017-07-31 04:07:24</td>\n",
       "    </tr>\n",
       "    <tr>\n",
       "      <th>4</th>\n",
       "      <td>67370341-68a5-415f-acf2-be58832a8f9c</td>\n",
       "      <td>Wrouver</td>\n",
       "      <td>other</td>\n",
       "      <td>Referral</td>\n",
       "      <td>2017-07-17T22:20:35Z</td>\n",
       "      <td>2017-07-17T22:21:09Z</td>\n",
       "      <td>2017-07-17T22:20:53Z</td>\n",
       "      <td>Honda</td>\n",
       "      <td>Accord</td>\n",
       "      <td>1999</td>\n",
       "      <td>NaN</td>\n",
       "      <td>2017-07-17 22:20:35</td>\n",
       "      <td>2017-07-17 22:20:53</td>\n",
       "      <td>NaT</td>\n",
       "    </tr>\n",
       "  </tbody>\n",
       "</table>\n",
       "</div>"
      ],
      "text/plain": [
       "                                     id city_name signup_os signup_channel  \\\n",
       "0  082befb0-c1de-4c14-8700-94a7943a7545    Strark       NaN            R2D   \n",
       "1  1ae6156f-63fc-40cf-9734-0995978c4b6e    Berton   ios web           Dost   \n",
       "2  2a4a4eef-14ef-4ceb-82eb-66f1f7d0d219    Berton       NaN            R2D   \n",
       "3  56fe7597-3ad8-4798-8be8-5fbc4e2d3151    Berton   ios web       Referral   \n",
       "4  67370341-68a5-415f-acf2-be58832a8f9c   Wrouver     other       Referral   \n",
       "\n",
       "       signup_timestamp              bgc_date    vehicle_added_date  \\\n",
       "0  2017-07-06T20:42:17Z                   NaN  2017-07-06T20:42:56Z   \n",
       "1  2017-07-03T17:41:07Z  2017-07-03T17:42:06Z  2017-07-03T17:41:14Z   \n",
       "2  2017-07-10T22:55:29Z                   NaN  2017-07-11T17:44:44Z   \n",
       "3  2017-07-27T18:27:21Z  2017-07-27T18:31:43Z  2017-07-27T18:31:09Z   \n",
       "4  2017-07-17T22:20:35Z  2017-07-17T22:21:09Z  2017-07-17T22:20:53Z   \n",
       "\n",
       "  vehicle_make vehicle_model  vehicle_year first_completed_trip_timestamp  \\\n",
       "0   Volkswagen            CC          2012                            NaN   \n",
       "1       Toyota       4Runner          2003           2017-07-23T00:26:50Z   \n",
       "2      Hyundai       Elantra          2015                            NaN   \n",
       "3        Honda         Civic          2017           2017-07-31T04:07:24Z   \n",
       "4        Honda        Accord          1999                            NaN   \n",
       "\n",
       "            signup_dt    vehicle_added_dt first_completed_trip_dt  \n",
       "0 2017-07-06 20:42:17 2017-07-06 20:42:56                     NaT  \n",
       "1 2017-07-03 17:41:07 2017-07-03 17:41:14     2017-07-23 00:26:50  \n",
       "2 2017-07-10 22:55:29 2017-07-11 17:44:44                     NaT  \n",
       "3 2017-07-27 18:27:21 2017-07-27 18:31:09     2017-07-31 04:07:24  \n",
       "4 2017-07-17 22:20:35 2017-07-17 22:20:53                     NaT  "
      ]
     },
     "execution_count": 9,
     "metadata": {},
     "output_type": "execute_result"
    }
   ],
   "source": [
    "#parse correct datetime\n",
    "df['signup_dt'] = pd.to_datetime(df.signup_timestamp.astype('str').map(lambda x: re.sub('[T,Z]', ' ', x).strip()))\n",
    "df['vehicle_added_dt'] = pd.to_datetime(df.vehicle_added_date.astype('str').map(lambda x: re.sub('[T,Z]', ' ', x).strip()))\n",
    "df['first_completed_trip_dt'] = pd.to_datetime(df.first_completed_trip_timestamp.astype('str').map(lambda x: re.sub('[T,Z]', ' ', x).strip()))\n",
    "df.head()"
   ]
  },
  {
   "cell_type": "code",
   "execution_count": 10,
   "metadata": {},
   "outputs": [
    {
     "data": {
      "text/plain": [
       "count    11978.000000\n",
       "mean      2011.567874\n",
       "std          4.913779\n",
       "min       1993.000000\n",
       "25%       2008.000000\n",
       "50%       2013.000000\n",
       "75%       2016.000000\n",
       "max       2018.000000\n",
       "Name: vehicle_year, dtype: float64"
      ]
     },
     "execution_count": 10,
     "metadata": {},
     "output_type": "execute_result"
    }
   ],
   "source": [
    "#distribution of vehicle year\n",
    "df.vehicle_year.describe()"
   ]
  },
  {
   "cell_type": "code",
   "execution_count": 11,
   "metadata": {},
   "outputs": [
    {
     "data": {
      "text/plain": [
       "<matplotlib.axes._subplots.AxesSubplot at 0x1a12a1b470>"
      ]
     },
     "execution_count": 11,
     "metadata": {},
     "output_type": "execute_result"
    },
    {
     "data": {
      "image/png": "[encoded data removed]",
      "text/plain": [
       "<matplotlib.figure.Figure at 0x1a13f341d0>"
      ]
     },
     "metadata": {},
     "output_type": "display_data"
    }
   ],
   "source": [
    "df.vehicle_year.hist()"
   ]
  },
  {
   "cell_type": "markdown",
   "metadata": {},
   "source": [
    "Most vehicle are new vehicles. `vehicle year` ranges from 1993 to 2018"
   ]
  },
  {
   "cell_type": "code",
   "execution_count": 12,
   "metadata": {},
   "outputs": [
    {
     "data": {
      "text/plain": [
       "Text(0,0.5,'Number of Signups')"
      ]
     },
     "execution_count": 12,
     "metadata": {},
     "output_type": "execute_result"
    },
    {
     "data": {
      "image/png": "[encoded data removed]",
      "text/plain": [
       "<matplotlib.figure.Figure at 0x1a12ae00f0>"
      ]
     },
     "metadata": {},
     "output_type": "display_data"
    }
   ],
   "source": [
    "#sign up by hour\n",
    "df.groupby(df.signup_dt.dt.hour).id.count().plot()\n",
    "plt.xlabel(\"Hour\")\n",
    "plt.ylabel(\"Number of Signups\")"
   ]
  },
  {
   "cell_type": "markdown",
   "metadata": {},
   "source": [
    "Assuming that all time was recorded in the same timezone, tt seems like signups peak at night between 5pm - 11pm and drop to the lowest during noon"
   ]
  },
  {
   "cell_type": "code",
   "execution_count": 13,
   "metadata": {},
   "outputs": [
    {
     "data": {
      "text/plain": [
       "Text(0,0.5,'Number of Trips')"
      ]
     },
     "execution_count": 13,
     "metadata": {},
     "output_type": "execute_result"
    },
    {
     "data": {
      "image/png": "[encoded data removed]",
      "text/plain": [
       "<matplotlib.figure.Figure at 0x1a12afc0f0>"
      ]
     },
     "metadata": {},
     "output_type": "display_data"
    }
   ],
   "source": [
    "#first trip by hour\n",
    "df.groupby(df.first_completed_trip_dt.dt.hour).id.count().plot()\n",
    "plt.xlabel(\"Hour\")\n",
    "plt.ylabel(\"Number of Trips\")"
   ]
  },
  {
   "cell_type": "markdown",
   "metadata": {},
   "source": [
    "Assuming that all time was recorded in the same timezone, hour for first completed trips follows very similar distribution as the signups."
   ]
  },
  {
   "cell_type": "markdown",
   "metadata": {},
   "source": [
    "### What fraction of the driver signups took a first trip within 30 days of signing up?"
   ]
  },
  {
   "cell_type": "markdown",
   "metadata": {},
   "source": [
    "We know that 1) certain drivers signed up multiple times and 2) there are 10% of the sign up where we don't have any sign up timestamp. Here we assume to 1) treat each different signup as unique driver signup and 2) consider a record with a trip completion timestamp but without a signup timestamp to still be a valid record of driver signup and 3) we are not missing any datetime for the first trip completion for each sign up"
   ]
  },
  {
   "cell_type": "code",
   "execution_count": 14,
   "metadata": {},
   "outputs": [],
   "source": [
    "#day difference between signup and first trip\n",
    "df['signup_firsttrip_daydiff'] = (df.first_completed_trip_dt - df.signup_dt).astype('timedelta64[D]')                                         \n",
    "# df.head()"
   ]
  },
  {
   "cell_type": "code",
   "execution_count": 15,
   "metadata": {},
   "outputs": [
    {
     "data": {
      "text/plain": [
       "1.0"
      ]
     },
     "execution_count": 15,
     "metadata": {},
     "output_type": "execute_result"
    }
   ],
   "source": [
    "#check to see whether all day difference are within 30 days\n",
    "(df.signup_firsttrip_daydiff <= 30).sum() / (df.signup_firsttrip_daydiff.notnull().sum())"
   ]
  },
  {
   "cell_type": "markdown",
   "metadata": {},
   "source": [
    "Looks good"
   ]
  },
  {
   "cell_type": "code",
   "execution_count": 16,
   "metadata": {},
   "outputs": [
    {
     "data": {
      "text/plain": [
       "0.5435798964768743"
      ]
     },
     "execution_count": 16,
     "metadata": {},
     "output_type": "execute_result"
    }
   ],
   "source": [
    "# % of signups with a completed trip in 30 days\n",
    "df.first_completed_trip_dt.notnull().mean()"
   ]
  },
  {
   "cell_type": "markdown",
   "metadata": {},
   "source": [
    "With the assumptions we made above, we see that **54% of the driver signups had a completed trip within 30 days.**"
   ]
  },
  {
   "cell_type": "markdown",
   "metadata": {},
   "source": [
    "## Part B \n",
    "Build a predictive model to help Uber determine whether or not a driver signup will start driving\n",
    "within 30 days of signing up. Discuss why you chose your approach, what alternatives you\n",
    "considered, and any concerns you have. How valid is your model? Include any key indicators of\n",
    "model performance."
   ]
  },
  {
   "cell_type": "markdown",
   "metadata": {},
   "source": [
    "### Feature Engineering\n",
    "\n",
    "Most of the features we currently have are categorical values with null values. We can use one-hot encoding for each level of these values (with one level left out, e.g. nulls for columns with nulls) to avoid perfect collinearity) to include all these different categories. \n",
    "\n",
    "The only continuous feature (including time variables) without null values is vehicle year, which can be included as a feature. Otherwise for the variables with null values, we'd have to either populate the null values, which we have very little context on how we should do so, or divide the dataset into subsets of data where records with null values are grouped separately. "
   ]
  },
  {
   "cell_type": "code",
   "execution_count": 17,
   "metadata": {},
   "outputs": [],
   "source": [
    "# df.head()"
   ]
  },
  {
   "cell_type": "code",
   "execution_count": 18,
   "metadata": {},
   "outputs": [],
   "source": [
    "#feature engineering\n",
    "\n",
    "#add day of week for signup\n",
    "df['signup_dow'] = df.signup_dt.dt.weekday_name\n",
    "\n",
    "def construct_ft_label_mat(df):\n",
    "    \n",
    "    #features\n",
    "    #categorical features\n",
    "    data_mat = pd.get_dummies(df[['city_name', 'signup_os', 'signup_channel', 'vehicle_make', 'signup_dow']])\n",
    "    \n",
    "    #Not Null Features (might create multicolllinearity for regression)\n",
    "    data_mat['has_city_name'] = df.city_name.notnull() * 1\n",
    "    data_mat['has_signup_os'] = df.signup_os.notnull() * 1\n",
    "    data_mat['has_signup_channel'] = df.signup_channel.notnull() * 1\n",
    "    data_mat['has_vehicle_make'] = df.signup_channel.notnull() * 1\n",
    "    data_mat['has_signup_ts'] = df.signup_timestamp.notnull() * 1\n",
    "    data_mat['has_vehicle_added_ts'] = df.vehicle_added_date.notnull() * 1\n",
    "    \n",
    "    #vehicle age\n",
    "    data_mat['vehicle_age'] = df.vehicle_year.map(lambda x: 2018 - x)\n",
    "    \n",
    "    #consent to background check\n",
    "    data_mat['has_bgc_date'] = df.bgc_date.notnull() * 1\n",
    "    \n",
    "    #whether has vehicle added dt\n",
    "    data_mat['has_vehicle_added_date'] = df.vehicle_added_date.notnull() * 1\n",
    "    \n",
    "    #labels\n",
    "    data_mat['complete_first_trip_30d'] = df.first_completed_trip_timestamp.notnull() * 1\n",
    "    \n",
    "    return data_mat"
   ]
  },
  {
   "cell_type": "code",
   "execution_count": 19,
   "metadata": {},
   "outputs": [
    {
     "data": {
      "text/plain": [
       "(11978, 79)"
      ]
     },
     "execution_count": 19,
     "metadata": {},
     "output_type": "execute_result"
    }
   ],
   "source": [
    "df_all = construct_ft_label_mat(df)\n",
    "df_all.shape"
   ]
  },
  {
   "cell_type": "code",
   "execution_count": 20,
   "metadata": {},
   "outputs": [],
   "source": [
    "#features\n",
    "feature_all = df_all.iloc[:, :-1]\n",
    "#labels\n",
    "label_all = df_all.iloc[:, -1]"
   ]
  },
  {
   "cell_type": "markdown",
   "metadata": {},
   "source": [
    "Without further feature selection, we have 78 features in our dataset for prediction. Now let's split the data to train and test sets. One thing we saw from Part A is that we have a **fairly balanced dataset** with around half of the sample being postive. Hence, no sophisticated sampling methods is needed here. "
   ]
  },
  {
   "cell_type": "code",
   "execution_count": 21,
   "metadata": {},
   "outputs": [],
   "source": [
    "#train test split\n",
    "train_data, test_data, train_label, test_label = train_test_split (feature_all, label_all, test_size = 0.25, random_state = 15)"
   ]
  },
  {
   "cell_type": "markdown",
   "metadata": {},
   "source": [
    "### Metric Selection\n",
    "Since this is a binary classification task with a balanced dataset, Area Under Curve would be a good quantifiable metric to be used to evaluate the performance of the model. AUC of a classifier is equal to the probability that the classifier will rank a randomly chosen positive example higher than a randomly chosen negative example. F1 score will be better suited if our data is imbalanced. "
   ]
  },
  {
   "cell_type": "markdown",
   "metadata": {},
   "source": [
    "### Model Selection & Tuning 1 (Linear)\n",
    "This is by nature a binary classification task and with the one-hot encodings + the continuous feature (vehicle age). Logistic Regression can be served as a useful model as a linear classifier in this case which predicts the likelihood of a given signup ending up with a completed trip within 30 days.\n",
    "\n",
    "I chose to use a grid search with cross-validation to tune the hyperparameters that would produce the best AUC. "
   ]
  },
  {
   "cell_type": "code",
   "execution_count": 107,
   "metadata": {},
   "outputs": [
    {
     "name": "stdout",
     "output_type": "stream",
     "text": [
      "{'C': 0.07085353535353535, 'penalty': 'l1'}\n"
     ]
    },
    {
     "data": {
      "text/plain": [
       "0.5839643817204301"
      ]
     },
     "execution_count": 107,
     "metadata": {},
     "output_type": "execute_result"
    }
   ],
   "source": [
    "lr = LogisticRegression()\n",
    "parameters = {'C':np.linspace(0.0005, 0.1, 100), 'penalty' : ['l1', 'l2']}\n",
    "\n",
    "#use stratified k-fold to preserve % of sample for each class\n",
    "skf = StratifiedKFold(n_splits=3, shuffle = True, random_state = 1001)\n",
    "\n",
    "#grid search\n",
    "clf = GridSearchCV(lr, parameters,cv=skf.split(train_data, train_label))\n",
    "clf.fit(train_data, train_label)\n",
    "\n",
    "#prediction\n",
    "pred_test_prob_lr = clf.predict_proba(test_data)[:,1]\n",
    "\n",
    "print(clf.best_params_)\n",
    "roc_auc_score(test_label, pred_test_prob_lr)"
   ]
  },
  {
   "cell_type": "markdown",
   "metadata": {},
   "source": [
    "### Model Selection & Tuning 2 (Non-Linear)\n",
    "Hoping to capture potential non-linear relationship between our dependent variable and the features, we experiment with a non-linear method - the xgboost variant of gradient boosting. With an ensemble method where decision trees are grown sequentially, with a randomly sampled data and features, to correct the prediction error from the previous tree, we hope to increase the test AUC by better balancing the bias-variance trade-off.\n",
    "\n",
    "A grid search with cross-validation is also used to tune the hyperparameters."
   ]
  },
  {
   "cell_type": "code",
   "execution_count": 110,
   "metadata": {},
   "outputs": [
    {
     "name": "stdout",
     "output_type": "stream",
     "text": [
      "{'colsample_bytree': 0.8, 'learning_rate': 0.03, 'min_child_weight': 5}\n"
     ]
    },
    {
     "data": {
      "text/plain": [
       "0.577905017921147"
      ]
     },
     "execution_count": 110,
     "metadata": {},
     "output_type": "execute_result"
    }
   ],
   "source": [
    "parameters = {\n",
    "         'learning_rate': [.01, .02, .03],\n",
    "          'min_child_weight': [1, 5],\n",
    "          'colsample_bytree': [0.6, 0.7, 0.8, 0.9],\n",
    "         }\n",
    "\n",
    "xgb_test = xgb.XGBClassifier(objective = 'binary:logistic',\n",
    "            max_depth = 3, subsample = 0.8, max_delta_step = 1, random_state = 15, silent=True)\n",
    "\n",
    "#grid search\n",
    "grid_search = GridSearchCV(xgb_test, param_grid = parameters, scoring='roc_auc', cv=skf.split(train_data, train_label))\n",
    "grid_search.fit(train_data, train_label)\n",
    "\n",
    "#prediction\n",
    "pred_test_prob_xgb = grid_search.predict_proba(test_data)[:,1]\n",
    "\n",
    "print(grid_search.best_params_)\n",
    "roc_auc_score(test_label, pred_test_prob_xgb)"
   ]
  },
  {
   "cell_type": "markdown",
   "metadata": {},
   "source": [
    "### Model ROC Curves"
   ]
  },
  {
   "cell_type": "code",
   "execution_count": 123,
   "metadata": {},
   "outputs": [
    {
     "data": {
      "image/png": "[encoded data removed]",
      "text/plain": [
       "<matplotlib.figure.Figure at 0x1a17feee48>"
      ]
     },
     "metadata": {},
     "output_type": "display_data"
    }
   ],
   "source": [
    "def plot_roc(y_test, label, y_score, label2, y_score2):\n",
    "    \n",
    "    # Compute ROC curve and ROC area for each class\n",
    "    fpr = dict()\n",
    "    tpr = dict()\n",
    "    roc_auc = dict()\n",
    "    fpr[0], tpr[0], _ = roc_curve(y_test, y_score)\n",
    "    roc_auc[0] = auc(fpr[0], tpr[0])\n",
    "\n",
    "    fpr[1], tpr[1], _ = roc_curve(y_test, y_score2)\n",
    "    roc_auc[1] = auc(fpr[1], tpr[1])\n",
    "    \n",
    "    plt.figure()\n",
    "    lw = 2\n",
    "    \n",
    "    plt.plot(fpr[0], tpr[0], color='darkorange',\n",
    "             lw=lw, label=label + ' (area = %0.2f)' % roc_auc[0])\n",
    "    \n",
    "    plt.plot(fpr[1], tpr[1], color='red',\n",
    "             lw=lw, label= label2 + ' (area = %0.2f)' % roc_auc[1])\n",
    "        \n",
    "    \n",
    "    plt.plot([0, 1], [0, 1], color='navy', lw=lw, linestyle='--')\n",
    "    \n",
    "    plt.xlim([0.0, 1.0])\n",
    "    plt.ylim([0.0, 1.05])\n",
    "    plt.title(\"ROC curve\")\n",
    "    plt.xlabel('False Positive Rate')\n",
    "    plt.ylabel('True Positive Rate')\n",
    "    plt.legend(loc=\"lower right\")\n",
    "    plt.show()\n",
    "\n",
    "plot_roc(test_label, \"Logistic Regression\", pred_test_prob_lr, \"XGA Boost\", pred_test_prob_xgb)"
   ]
  },
  {
   "cell_type": "markdown",
   "metadata": {},
   "source": [
    "### Model Confusion Matrices"
   ]
  },
  {
   "cell_type": "code",
   "execution_count": 125,
   "metadata": {},
   "outputs": [
    {
     "name": "stdout",
     "output_type": "stream",
     "text": [
      "confusion matrix for Logistic Regression:\n",
      "[[ 649  746]\n",
      " [ 558 1042]]\n",
      "confusion matrix for XGA Boost:\n",
      "[[ 600  795]\n",
      " [ 514 1086]]\n"
     ]
    }
   ],
   "source": [
    "print(\"confusion matrix for Logistic Regression:\")\n",
    "print(confusion_matrix(test_label, pred_test_prob_lr > 0.5))\n",
    "\n",
    "print(\"confusion matrix for XGA Boost:\")\n",
    "print(confusion_matrix(test_label, pred_test_prob_xgb > 0.5))"
   ]
  },
  {
   "cell_type": "markdown",
   "metadata": {},
   "source": [
    "From the ROC curves and confusion matrices, it seems like our two models have very similar performance on the test set, with logistic regression making slightly more False Positives and less False Negatives. \n",
    "\n",
    "In a scenario where there is not a clear winner, I tend to **prefer the simpler(est) model** and in this case, it'd be our model 1 - **logistic regression**. \n",
    "\n",
    "Although the AUC is far from desired, additional data and features, including features that could be derived from the data we have, may help improve the AUC for the classification task."
   ]
  },
  {
   "cell_type": "markdown",
   "metadata": {},
   "source": [
    "### Feature Importance"
   ]
  },
  {
   "cell_type": "code",
   "execution_count": 130,
   "metadata": {},
   "outputs": [
    {
     "data": {
      "text/plain": [
       "LogisticRegression(C=0.07085353535353535, class_weight=None, dual=False,\n",
       "          fit_intercept=True, intercept_scaling=1, max_iter=100,\n",
       "          multi_class='ovr', n_jobs=1, penalty='l1', random_state=None,\n",
       "          solver='liblinear', tol=0.0001, verbose=0, warm_start=False)"
      ]
     },
     "execution_count": 130,
     "metadata": {},
     "output_type": "execute_result"
    }
   ],
   "source": [
    "#recreate best Logistic Regression\n",
    "lr2 = LogisticRegression(C = 0.07085353535353535, penalty = 'l1')\n",
    "lr2.fit(train_data, train_label)\n",
    "\n",
    "#get features with \n",
    "# train_data.columns()\n",
    "# = lr2.coef_"
   ]
  },
  {
   "cell_type": "code",
   "execution_count": 160,
   "metadata": {},
   "outputs": [
    {
     "data": {
      "text/html": [
       "<div>\n",
       "<style scoped>\n",
       "    .dataframe tbody tr th:only-of-type {\n",
       "        vertical-align: middle;\n",
       "    }\n",
       "\n",
       "    .dataframe tbody tr th {\n",
       "        vertical-align: top;\n",
       "    }\n",
       "\n",
       "    .dataframe thead th {\n",
       "        text-align: right;\n",
       "    }\n",
       "</style>\n",
       "<table border=\"1\" class=\"dataframe\">\n",
       "  <thead>\n",
       "    <tr style=\"text-align: right;\">\n",
       "      <th></th>\n",
       "      <th>abs_coef</th>\n",
       "      <th>coef</th>\n",
       "      <th>feature</th>\n",
       "    </tr>\n",
       "  </thead>\n",
       "  <tbody>\n",
       "    <tr>\n",
       "      <th>12</th>\n",
       "      <td>0.554971</td>\n",
       "      <td>0.554971</td>\n",
       "      <td>signup_channel_Referral</td>\n",
       "    </tr>\n",
       "    <tr>\n",
       "      <th>71</th>\n",
       "      <td>0.115901</td>\n",
       "      <td>-0.115901</td>\n",
       "      <td>has_signup_channel</td>\n",
       "    </tr>\n",
       "    <tr>\n",
       "      <th>72</th>\n",
       "      <td>0.110747</td>\n",
       "      <td>-0.110747</td>\n",
       "      <td>has_vehicle_make</td>\n",
       "    </tr>\n",
       "    <tr>\n",
       "      <th>2</th>\n",
       "      <td>0.078505</td>\n",
       "      <td>0.078505</td>\n",
       "      <td>city_name_Wrouver</td>\n",
       "    </tr>\n",
       "    <tr>\n",
       "      <th>69</th>\n",
       "      <td>0.063705</td>\n",
       "      <td>0.063705</td>\n",
       "      <td>has_city_name</td>\n",
       "    </tr>\n",
       "    <tr>\n",
       "      <th>4</th>\n",
       "      <td>0.061940</td>\n",
       "      <td>0.061940</td>\n",
       "      <td>signup_os_ios web</td>\n",
       "    </tr>\n",
       "    <tr>\n",
       "      <th>26</th>\n",
       "      <td>0.048253</td>\n",
       "      <td>0.048253</td>\n",
       "      <td>vehicle_make_Honda</td>\n",
       "    </tr>\n",
       "    <tr>\n",
       "      <th>70</th>\n",
       "      <td>0.040707</td>\n",
       "      <td>0.040707</td>\n",
       "      <td>has_signup_os</td>\n",
       "    </tr>\n",
       "    <tr>\n",
       "      <th>63</th>\n",
       "      <td>0.039743</td>\n",
       "      <td>0.039743</td>\n",
       "      <td>signup_dow_Monday</td>\n",
       "    </tr>\n",
       "    <tr>\n",
       "      <th>64</th>\n",
       "      <td>0.038573</td>\n",
       "      <td>0.038573</td>\n",
       "      <td>signup_dow_Saturday</td>\n",
       "    </tr>\n",
       "    <tr>\n",
       "      <th>11</th>\n",
       "      <td>0.018029</td>\n",
       "      <td>-0.018029</td>\n",
       "      <td>signup_channel_R2D</td>\n",
       "    </tr>\n",
       "    <tr>\n",
       "      <th>68</th>\n",
       "      <td>0.015934</td>\n",
       "      <td>-0.015934</td>\n",
       "      <td>signup_dow_Wednesday</td>\n",
       "    </tr>\n",
       "    <tr>\n",
       "      <th>75</th>\n",
       "      <td>0.012043</td>\n",
       "      <td>-0.012043</td>\n",
       "      <td>vehicle_age</td>\n",
       "    </tr>\n",
       "    <tr>\n",
       "      <th>76</th>\n",
       "      <td>0.006682</td>\n",
       "      <td>0.006682</td>\n",
       "      <td>has_bgc_date</td>\n",
       "    </tr>\n",
       "    <tr>\n",
       "      <th>1</th>\n",
       "      <td>0.005587</td>\n",
       "      <td>0.005587</td>\n",
       "      <td>city_name_Strark</td>\n",
       "    </tr>\n",
       "  </tbody>\n",
       "</table>\n",
       "</div>"
      ],
      "text/plain": [
       "    abs_coef      coef                  feature\n",
       "12  0.554971  0.554971  signup_channel_Referral\n",
       "71  0.115901 -0.115901       has_signup_channel\n",
       "72  0.110747 -0.110747         has_vehicle_make\n",
       "2   0.078505  0.078505        city_name_Wrouver\n",
       "69  0.063705  0.063705            has_city_name\n",
       "4   0.061940  0.061940        signup_os_ios web\n",
       "26  0.048253  0.048253       vehicle_make_Honda\n",
       "70  0.040707  0.040707            has_signup_os\n",
       "63  0.039743  0.039743        signup_dow_Monday\n",
       "64  0.038573  0.038573      signup_dow_Saturday\n",
       "11  0.018029 -0.018029       signup_channel_R2D\n",
       "68  0.015934 -0.015934     signup_dow_Wednesday\n",
       "75  0.012043 -0.012043              vehicle_age\n",
       "76  0.006682  0.006682             has_bgc_date\n",
       "1   0.005587  0.005587         city_name_Strark"
      ]
     },
     "execution_count": 160,
     "metadata": {},
     "output_type": "execute_result"
    }
   ],
   "source": [
    "#feature importance\n",
    "feat_imp = pd.DataFrame({'feature': np.array(train_data.columns),\n",
    "                         'coef': lr2.coef_.reshape(78,),\n",
    "                         'abs_coef': np.absolute(lr2.coef_).reshape(78,)\n",
    "                        })\n",
    "\n",
    "#features sorted by feature importance according to the LR model\n",
    "feat_imp[feat_imp.coef != 0].sort_values(by = 'abs_coef', ascending = False)"
   ]
  },
  {
   "cell_type": "markdown",
   "metadata": {},
   "source": [
    "## Part C\n",
    "Briefly discuss how Uber might leverage the insights gained from the model to generate more\n",
    "first trips (again, a few ideas/sentences will suffice)."
   ]
  },
  {
   "cell_type": "markdown",
   "metadata": {},
   "source": [
    "From the feature importance in the best logistic regression model, we can see that the 10 most  important features are as followed:"
   ]
  },
  {
   "cell_type": "code",
   "execution_count": 164,
   "metadata": {},
   "outputs": [
    {
     "data": {
      "text/html": [
       "<div>\n",
       "<style scoped>\n",
       "    .dataframe tbody tr th:only-of-type {\n",
       "        vertical-align: middle;\n",
       "    }\n",
       "\n",
       "    .dataframe tbody tr th {\n",
       "        vertical-align: top;\n",
       "    }\n",
       "\n",
       "    .dataframe thead th {\n",
       "        text-align: right;\n",
       "    }\n",
       "</style>\n",
       "<table border=\"1\" class=\"dataframe\">\n",
       "  <thead>\n",
       "    <tr style=\"text-align: right;\">\n",
       "      <th></th>\n",
       "      <th>feature</th>\n",
       "      <th>coef</th>\n",
       "    </tr>\n",
       "  </thead>\n",
       "  <tbody>\n",
       "    <tr>\n",
       "      <th>12</th>\n",
       "      <td>signup_channel_Referral</td>\n",
       "      <td>0.554971</td>\n",
       "    </tr>\n",
       "    <tr>\n",
       "      <th>71</th>\n",
       "      <td>has_signup_channel</td>\n",
       "      <td>-0.115901</td>\n",
       "    </tr>\n",
       "    <tr>\n",
       "      <th>72</th>\n",
       "      <td>has_vehicle_make</td>\n",
       "      <td>-0.110747</td>\n",
       "    </tr>\n",
       "    <tr>\n",
       "      <th>2</th>\n",
       "      <td>city_name_Wrouver</td>\n",
       "      <td>0.078505</td>\n",
       "    </tr>\n",
       "    <tr>\n",
       "      <th>69</th>\n",
       "      <td>has_city_name</td>\n",
       "      <td>0.063705</td>\n",
       "    </tr>\n",
       "    <tr>\n",
       "      <th>4</th>\n",
       "      <td>signup_os_ios web</td>\n",
       "      <td>0.061940</td>\n",
       "    </tr>\n",
       "    <tr>\n",
       "      <th>26</th>\n",
       "      <td>vehicle_make_Honda</td>\n",
       "      <td>0.048253</td>\n",
       "    </tr>\n",
       "    <tr>\n",
       "      <th>70</th>\n",
       "      <td>has_signup_os</td>\n",
       "      <td>0.040707</td>\n",
       "    </tr>\n",
       "    <tr>\n",
       "      <th>63</th>\n",
       "      <td>signup_dow_Monday</td>\n",
       "      <td>0.039743</td>\n",
       "    </tr>\n",
       "    <tr>\n",
       "      <th>64</th>\n",
       "      <td>signup_dow_Saturday</td>\n",
       "      <td>0.038573</td>\n",
       "    </tr>\n",
       "  </tbody>\n",
       "</table>\n",
       "</div>"
      ],
      "text/plain": [
       "                    feature      coef\n",
       "12  signup_channel_Referral  0.554971\n",
       "71       has_signup_channel -0.115901\n",
       "72         has_vehicle_make -0.110747\n",
       "2         city_name_Wrouver  0.078505\n",
       "69            has_city_name  0.063705\n",
       "4         signup_os_ios web  0.061940\n",
       "26       vehicle_make_Honda  0.048253\n",
       "70            has_signup_os  0.040707\n",
       "63        signup_dow_Monday  0.039743\n",
       "64      signup_dow_Saturday  0.038573"
      ]
     },
     "execution_count": 164,
     "metadata": {},
     "output_type": "execute_result"
    }
   ],
   "source": [
    "feat_imp[feat_imp.coef != 0].sort_values(by = 'abs_coef', ascending = False)[['feature', 'coef']].head(10)"
   ]
  },
  {
   "cell_type": "markdown",
   "metadata": {},
   "source": [
    "One note of interpreting these coefficients is that these are correlations but not causations. The interpretation is that \"holding other variables constant, a 1 unit increase in [feature] changes the odds of a signup -> 30-day trip conversion by $e^{coef}$ times\". But that doesn't neccessarily mean that, for example, forcing users to drive Honda is going to change the odds by $e^{0.05} = 1.05$ times since it's not a causal effect.\n",
    "\n",
    "With that in mind, here are a couple of ideas that Uber could try to operationalize in order to generate more first trips:\n",
    "\n",
    ">1. Provide incentive for Uber drivers to refer new Uber drivers\n",
    "\n",
    ">2. Increase driver recruiting effort in Wrouver, where drivers in average have a higher signup to trip completion conversion\n",
    "\n",
    ">3. Understand and improve user singup experience on platforms other than IOS Web. Understand why signing up using IOS web correlates to better conversion. \n"
   ]
  }
 ],
 "metadata": {
  "kernelspec": {
   "display_name": "Python 3",
   "language": "python",
   "name": "python3"
  },
  "language_info": {
   "codemirror_mode": {
    "name": "ipython",
    "version": 3
   },
   "file_extension": ".py",
   "mimetype": "text/x-python",
   "name": "python",
   "nbconvert_exporter": "python",
   "pygments_lexer": "ipython3",
   "version": "3.6.4"
  }
 },
 "nbformat": 4,
 "nbformat_minor": 2
}
